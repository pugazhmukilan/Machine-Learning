{
 "cells": [
  {
   "cell_type": "markdown",
   "metadata": {},
   "source": [
    "they will have many features "
   ]
  },
  {
   "cell_type": "code",
   "execution_count": 56,
   "metadata": {},
   "outputs": [],
   "source": [
    "import pandas as pd\n",
    "import numpy as np\n",
    "import matplotlib.pyplot as plt"
   ]
  },
  {
   "cell_type": "markdown",
   "metadata": {},
   "source": [
    "IMPORT THE DATASET"
   ]
  },
  {
   "cell_type": "code",
   "execution_count": 57,
   "metadata": {},
   "outputs": [
    {
     "name": "stdout",
     "output_type": "stream",
     "text": [
      "<built-in method flatten of numpy.ndarray object at 0x000001F78CCA9170>\n",
      "<built-in method flatten of numpy.ndarray object at 0x000001F78FAC6310>\n"
     ]
    }
   ],
   "source": [
    "dataset = pd.read_csv('50_Startups.csv')\n",
    "x= dataset.iloc[:,:-1].values\n",
    "y= dataset.iloc[:,-1].values\n",
    "print(x.flatten)\n",
    "print(y.flatten)"
   ]
  },
  {
   "cell_type": "markdown",
   "metadata": {},
   "source": [
    "ENCODE THE CATEGORICAL DATA   - cit location in the dataset which is the categorical data"
   ]
  },
  {
   "cell_type": "code",
   "execution_count": 58,
   "metadata": {},
   "outputs": [],
   "source": [
    "from sklearn.preprocessing import OneHotEncoder\n",
    "from sklearn.compose import ColumnTransformer\n",
    "ct = ColumnTransformer(transformers = [('encoder',OneHotEncoder(),[-1])],remainder = 'passthrough')\n",
    "x = np.array(ct.fit_transform(x))\n",
    "#print(x)"
   ]
  },
  {
   "cell_type": "code",
   "execution_count": 59,
   "metadata": {},
   "outputs": [
    {
     "name": "stdout",
     "output_type": "stream",
     "text": [
      "[[0.0 1.0 0.0 66051.52 182645.56 118148.2]\n",
      " [1.0 0.0 0.0 100671.96 91790.61 249744.55]\n",
      " [0.0 1.0 0.0 101913.08 110594.11 229160.95]\n",
      " [0.0 1.0 0.0 27892.92 84710.77 164470.71]\n",
      " [0.0 1.0 0.0 153441.51 101145.55 407934.54]\n",
      " [0.0 0.0 1.0 72107.6 127864.55 353183.81]\n",
      " [0.0 0.0 1.0 20229.59 65947.93 185265.1]\n",
      " [0.0 0.0 1.0 61136.38 152701.92 88218.23]\n",
      " [0.0 1.0 0.0 73994.56 122782.75 303319.26]\n",
      " [0.0 1.0 0.0 142107.34 91391.77 366168.42]]\n",
      "[103282.38 144259.4  146121.95  77798.83 191050.39 105008.31  81229.06\n",
      "  97483.56 110352.25 166187.94]\n"
     ]
    }
   ],
   "source": [
    "from sklearn.model_selection import  train_test_split\n",
    "\n",
    "x_train, x_test, y_train, y_test =train_test_split(x,y,train_size=0.8,random_state=50)\n",
    "print(x_test)\n",
    "print(y_test)"
   ]
  },
  {
   "cell_type": "markdown",
   "metadata": {},
   "source": [
    "IN MULTIPLE LINEAR REGRESSINF THERE IS NOT NEED TO TAKE ANY FEATURE SCALLING \n",
    "\n",
    "BECAUSE\n",
    "IN THE EQUATION OF THE MULTIPLE LINEAR REGRESSION WE HAVE COEFFIECTENT WILL COMPENSTATE THE EACH VALUE SO THERE IS NO NEED FOR IT TO DO FEATURE SCALLING\n",
    "\n",
    "NO NEED TO CHECK THE FEATURES OF LINEAR REGRESSSION\n"
   ]
  },
  {
   "cell_type": "code",
   "execution_count": 60,
   "metadata": {},
   "outputs": [
    {
     "name": "stdout",
     "output_type": "stream",
     "text": [
      "[103015.20159796 132582.27760815 132447.73845174  71976.09851258\n",
      " 178537.48221056 116161.24230167  67851.69209676  98791.73374687\n",
      " 113969.43533014 167921.06569551]\n",
      "[103282.38 144259.4  146121.95  77798.83 191050.39 105008.31  81229.06\n",
      "  97483.56 110352.25 166187.94]\n"
     ]
    }
   ],
   "source": [
    "from sklearn.linear_model import LinearRegression\n",
    "regressor = LinearRegression()\n",
    "regressor.fit(x_train,y_train)\n",
    "y_pred = regressor.predict(x_test)\n",
    "print(y_pred)\n",
    "print(y_test)\n",
    "\n"
   ]
  },
  {
   "cell_type": "markdown",
   "metadata": {},
   "source": [
    "FINDING THE ACCURACY OF THE MODEL"
   ]
  },
  {
   "cell_type": "code",
   "execution_count": 61,
   "metadata": {},
   "outputs": [
    {
     "name": "stdout",
     "output_type": "stream",
     "text": [
      "0.934706847328201\n"
     ]
    }
   ],
   "source": [
    "from sklearn.metrics import r2_score\n",
    "print(r2_score(y_test,y_pred))"
   ]
  },
  {
   "cell_type": "code",
   "execution_count": null,
   "metadata": {},
   "outputs": [],
   "source": []
  }
 ],
 "metadata": {
  "kernelspec": {
   "display_name": "Python 3",
   "language": "python",
   "name": "python3"
  },
  "language_info": {
   "codemirror_mode": {
    "name": "ipython",
    "version": 3
   },
   "file_extension": ".py",
   "mimetype": "text/x-python",
   "name": "python",
   "nbconvert_exporter": "python",
   "pygments_lexer": "ipython3",
   "version": "3.11.4"
  }
 },
 "nbformat": 4,
 "nbformat_minor": 2
}
