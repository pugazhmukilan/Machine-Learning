{
 "cells": [
  {
   "cell_type": "code",
   "execution_count": 9,
   "metadata": {},
   "outputs": [
    {
     "data": {
      "text/plain": [
       "{'data': 96}"
      ]
     },
     "execution_count": 9,
     "metadata": {},
     "output_type": "execute_result"
    }
   ],
   "source": [
    "import modelbit\n",
    "\n",
    "'''165349.2,136897.8,471784.1,New York,192261.83'''\n",
    "def predict_value(num):\n",
    "    \n",
    "    \n",
    "    return modelbit.get_inference(\n",
    "  region=\"ap-south-1\",\n",
    "  workspace=\"pugazhmukilan\",\n",
    "  deployment=\"double_number\",\n",
    "  data=num\n",
    ")\n",
    "    \n",
    "\n",
    "\n",
    "predict_value(48)"
   ]
  },
  {
   "cell_type": "code",
   "execution_count": null,
   "metadata": {},
   "outputs": [],
   "source": []
  }
 ],
 "metadata": {
  "kernelspec": {
   "display_name": "Python 3",
   "language": "python",
   "name": "python3"
  },
  "language_info": {
   "codemirror_mode": {
    "name": "ipython",
    "version": 3
   },
   "file_extension": ".py",
   "mimetype": "text/x-python",
   "name": "python",
   "nbconvert_exporter": "python",
   "pygments_lexer": "ipython3",
   "version": "3.11.4"
  }
 },
 "nbformat": 4,
 "nbformat_minor": 2
}
